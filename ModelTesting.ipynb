{
 "cells": [
  {
   "cell_type": "code",
   "execution_count": 25,
   "id": "c8c8e623-d13d-43e0-8f5e-bfedaf09b172",
   "metadata": {},
   "outputs": [
    {
     "data": {
      "text/plain": [
       "array([22.504])"
      ]
     },
     "execution_count": 25,
     "metadata": {},
     "output_type": "execute_result"
    }
   ],
   "source": [
    "from joblib import load, dump\n",
    "import numpy as np\n",
    "model = load(\"House Real Estate.joblib\")\n",
    "feature = np.array([-0.43942006,  3.12628155, -1.12165014, -0.27288841, -1.42262747,\n",
    "        -0.23979304, -1.31238772,  2.61111401, -1.0016859 , -0.5778192 ,\n",
    "       -0.97491834,  0.41164221, -0.86091034])\n",
    "model.predict([feature])"
   ]
  },
  {
   "cell_type": "code",
   "execution_count": null,
   "id": "26e64028-07f9-4611-8b88-178ce5c567c0",
   "metadata": {},
   "outputs": [],
   "source": []
  },
  {
   "cell_type": "code",
   "execution_count": null,
   "id": "732f270d-15f6-402b-8a95-ac9072633b3d",
   "metadata": {},
   "outputs": [],
   "source": []
  },
  {
   "cell_type": "code",
   "execution_count": null,
   "id": "868e59f3-c371-4ad8-a3f2-384e9dd7432d",
   "metadata": {},
   "outputs": [],
   "source": []
  }
 ],
 "metadata": {
  "kernelspec": {
   "display_name": "Python 3 (ipykernel)",
   "language": "python",
   "name": "python3"
  },
  "language_info": {
   "codemirror_mode": {
    "name": "ipython",
    "version": 3
   },
   "file_extension": ".py",
   "mimetype": "text/x-python",
   "name": "python",
   "nbconvert_exporter": "python",
   "pygments_lexer": "ipython3",
   "version": "3.12.2"
  }
 },
 "nbformat": 4,
 "nbformat_minor": 5
}
